{
 "cells": [
  {
   "cell_type": "code",
   "execution_count": 5,
   "metadata": {},
   "outputs": [
    {
     "name": "stdout",
     "output_type": "stream",
     "text": [
      "Requirement already satisfied: mediapipe in /Users/mac/opt/anaconda3/envs/myenv/lib/python3.9/site-packages (0.9.1.0)\n",
      "Requirement already satisfied: absl-py in /Users/mac/opt/anaconda3/envs/myenv/lib/python3.9/site-packages (from mediapipe) (2.0.0)\n",
      "Requirement already satisfied: attrs>=19.1.0 in /Users/mac/opt/anaconda3/envs/myenv/lib/python3.9/site-packages (from mediapipe) (23.1.0)\n",
      "Requirement already satisfied: flatbuffers>=2.0 in /Users/mac/opt/anaconda3/envs/myenv/lib/python3.9/site-packages (from mediapipe) (23.5.26)\n",
      "Requirement already satisfied: matplotlib in /Users/mac/opt/anaconda3/envs/myenv/lib/python3.9/site-packages (from mediapipe) (3.8.2)\n",
      "Requirement already satisfied: numpy in /Users/mac/opt/anaconda3/envs/myenv/lib/python3.9/site-packages (from mediapipe) (1.23.3)\n",
      "Requirement already satisfied: opencv-contrib-python in /Users/mac/opt/anaconda3/envs/myenv/lib/python3.9/site-packages (from mediapipe) (4.8.1.78)\n",
      "Requirement already satisfied: protobuf<4,>=3.11 in /Users/mac/opt/anaconda3/envs/myenv/lib/python3.9/site-packages (from mediapipe) (3.20.3)\n",
      "Requirement already satisfied: contourpy>=1.0.1 in /Users/mac/opt/anaconda3/envs/myenv/lib/python3.9/site-packages (from matplotlib->mediapipe) (1.2.0)\n",
      "Requirement already satisfied: cycler>=0.10 in /Users/mac/opt/anaconda3/envs/myenv/lib/python3.9/site-packages (from matplotlib->mediapipe) (0.12.1)\n",
      "Requirement already satisfied: fonttools>=4.22.0 in /Users/mac/opt/anaconda3/envs/myenv/lib/python3.9/site-packages (from matplotlib->mediapipe) (4.44.3)\n",
      "Requirement already satisfied: kiwisolver>=1.3.1 in /Users/mac/opt/anaconda3/envs/myenv/lib/python3.9/site-packages (from matplotlib->mediapipe) (1.4.5)\n",
      "Requirement already satisfied: packaging>=20.0 in /Users/mac/opt/anaconda3/envs/myenv/lib/python3.9/site-packages (from matplotlib->mediapipe) (21.3)\n",
      "Requirement already satisfied: pillow>=8 in /Users/mac/opt/anaconda3/envs/myenv/lib/python3.9/site-packages (from matplotlib->mediapipe) (9.2.0)\n",
      "Requirement already satisfied: pyparsing>=2.3.1 in /Users/mac/opt/anaconda3/envs/myenv/lib/python3.9/site-packages (from matplotlib->mediapipe) (3.0.9)\n",
      "Requirement already satisfied: python-dateutil>=2.7 in /Users/mac/opt/anaconda3/envs/myenv/lib/python3.9/site-packages (from matplotlib->mediapipe) (2.8.2)\n",
      "Requirement already satisfied: importlib-resources>=3.2.0 in /Users/mac/opt/anaconda3/envs/myenv/lib/python3.9/site-packages (from matplotlib->mediapipe) (6.1.1)\n",
      "Requirement already satisfied: zipp>=3.1.0 in /Users/mac/opt/anaconda3/envs/myenv/lib/python3.9/site-packages (from importlib-resources>=3.2.0->matplotlib->mediapipe) (3.17.0)\n",
      "Requirement already satisfied: six>=1.5 in /Users/mac/opt/anaconda3/envs/myenv/lib/python3.9/site-packages (from python-dateutil>=2.7->matplotlib->mediapipe) (1.16.0)\n",
      "Note: you may need to restart the kernel to use updated packages.\n"
     ]
    }
   ],
   "source": [
    "pip install mediapipe"
   ]
  },
  {
   "cell_type": "code",
   "execution_count": 6,
   "metadata": {},
   "outputs": [
    {
     "name": "stdout",
     "output_type": "stream",
     "text": [
      "Requirement already satisfied: numpy in /Users/mac/opt/anaconda3/envs/myenv/lib/python3.9/site-packages (1.23.3)\n",
      "Collecting numpy\n",
      "  Using cached numpy-1.26.2-cp39-cp39-macosx_10_9_x86_64.whl.metadata (61 kB)\n",
      "Using cached numpy-1.26.2-cp39-cp39-macosx_10_9_x86_64.whl (20.6 MB)\n",
      "Installing collected packages: numpy\n",
      "  Attempting uninstall: numpy\n",
      "    Found existing installation: numpy 1.23.3\n",
      "    Uninstalling numpy-1.23.3:\n",
      "      Successfully uninstalled numpy-1.23.3\n",
      "\u001b[31mERROR: pip's dependency resolver does not currently take into account all the packages that are installed. This behaviour is the source of the following dependency conflicts.\n",
      "scipy 1.9.1 requires numpy<1.25.0,>=1.18.5, but you have numpy 1.26.2 which is incompatible.\u001b[0m\u001b[31m\n",
      "\u001b[0mSuccessfully installed numpy-1.26.2\n",
      "Note: you may need to restart the kernel to use updated packages.\n"
     ]
    }
   ],
   "source": [
    "pip install --upgrade numpy\n"
   ]
  },
  {
   "cell_type": "code",
   "execution_count": 11,
   "metadata": {},
   "outputs": [],
   "source": [
    "import cv2\n",
    "import mediapipe as mp\n",
    "import numpy as np\n",
    "import face_utils\n",
    "import ImageProcessing\n",
    "\n",
    "def main(dest_img_path, target_img_path, result_path='result.jpg'):\n",
    "\tdest_img=cv2.imread(dest_img_path)\n",
    "\ttarget_img= cv2.imread(target_img_path)\n",
    "\n",
    "\tdest_xyz_landmark_points, dest_landmark_points= face_utils.get_face_landmark(dest_img)\n",
    "\tdest_convexhull= cv2.convexHull(np.array(dest_landmark_points))\n",
    "\n",
    "\ttarget_img_hist_match=ImageProcessing.hist_match(target_img,dest_img)\n",
    "\t\n",
    "\t_, target_landmark_points= face_utils.get_face_landmark(target_img)\n",
    "\ttarget_convexhull= cv2.convexHull(np.array(target_landmark_points))\n",
    "\n",
    "\tnew_face, result= face_utils.face_swapping(dest_img, dest_landmark_points, dest_xyz_landmark_points, dest_convexhull, target_img, target_landmark_points, target_convexhull, return_face= True)\n",
    "\n",
    "\theight, width, _ = dest_img.shape\n",
    "\th, w, _ = target_img.shape\n",
    "\trate= width/w\n",
    "\tcv2.imshow(\"Image source\", dest_img)\n",
    "\tcv2.imshow(\"Image target\", cv2.resize(target_img, (int(w * rate), int(h * rate))))\n",
    "\tcv2.imshow(\"Result\", result)\n",
    "\tcv2.imwrite(result_path, result)\n",
    "\tcv2.waitKey(0)\n"
   ]
  },
  {
   "cell_type": "code",
   "execution_count": 13,
   "metadata": {},
   "outputs": [],
   "source": [
    "if __name__ == \"__main__\":\n",
    "\tdest_img_path='Input/Femme.jpg'\n",
    "\ttarget_img_path='Target/Men_population/South_india.png'\n",
    "\tresult_path='result/result3.jpg'\n",
    "\tmain(dest_img_path, target_img_path, result_path)\n",
    "\n",
    "\t"
   ]
  }
 ],
 "metadata": {
  "kernelspec": {
   "display_name": "base",
   "language": "python",
   "name": "python3"
  },
  "language_info": {
   "codemirror_mode": {
    "name": "ipython",
    "version": 3
   },
   "file_extension": ".py",
   "mimetype": "text/x-python",
   "name": "python",
   "nbconvert_exporter": "python",
   "pygments_lexer": "ipython3",
   "version": "3.9.18"
  }
 },
 "nbformat": 4,
 "nbformat_minor": 2
}
