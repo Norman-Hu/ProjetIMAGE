{
 "cells": [
  {
   "cell_type": "code",
   "execution_count": 2,
   "metadata": {},
   "outputs": [],
   "source": [
    "import cv2\n",
    "import dlib\n",
    "\n",
    "\n",
    "def detect_landmarks(img):\n",
    "    # set up the 68 point facial landmark detector\n",
    "    detector = dlib.get_frontal_face_detector()\n",
    "    predictor = dlib.shape_predictor(\"shape_predictor_68_face_landmarks.dat\")\n",
    "\n",
    "    # convert to grayscale\n",
    "    img_gray = cv2.cvtColor(img, cv2.COLOR_BGR2GRAY)\n",
    "\n",
    "    # detect faces in the image\n",
    "    faces_in_image = detector(img_gray, 0)\n",
    "\n",
    "    # Process only first image\n",
    "    face = faces_in_image[0]\n",
    "\n",
    "    # assign the facial landmarks\n",
    "    landmarks = predictor(img_gray, face)\n",
    "\n",
    "    # unpack the 68 landmark coordinates from the dlib object into a list\n",
    "    landmarks_list = []\n",
    "    for i in range(0, landmarks.num_parts):\n",
    "        landmarks_list.append((landmarks.part(i).x, landmarks.part(i).y))\n",
    "\n",
    "    return face, landmarks_list\n",
    "\n",
    "\n"
   ]
  },
  {
   "cell_type": "code",
   "execution_count": 3,
   "metadata": {},
   "outputs": [],
   "source": [
    "if __name__ == '__main__':\n",
    "    # set up the 68 point facial landmark detector\n",
    "    detector = dlib.get_frontal_face_detector()\n",
    "    predictor = dlib.shape_predictor(\"shape_predictor_68_face_landmarks.dat\")\n",
    "\n",
    "    # bring in the input image\n",
    "    img = cv2.imread('face.jpeg', 1)\n",
    "\n",
    "    # convert to grayscale\n",
    "    img_gray = cv2.cvtColor(img, cv2.COLOR_BGR2GRAY)\n",
    "\n",
    "    # detect faces in the image\n",
    "    faces_in_image = detector(img_gray, 0)\n",
    "\n",
    "    # loop through each face in image\n",
    "    for face in faces_in_image:\n",
    "\n",
    "        # assign the facial landmarks\n",
    "        landmarks = predictor(img_gray, face)\n",
    "\n",
    "        # unpack the 68 landmark coordinates from the dlib object into a list\n",
    "        landmarks_list = []\n",
    "        for i in range(0, landmarks.num_parts):\n",
    "            landmarks_list.append((landmarks.part(i).x, landmarks.part(i).y))\n",
    "\n",
    "        # for each landmark, plot and write number\n",
    "        for landmark_num, xy in enumerate(landmarks_list, start=1):\n",
    "            cv2.circle(img, (xy[0], xy[1]), 3, (168, 0, 20), -1)\n",
    "           # cv2.putText(img, str(landmark_num), (xy[0] - 7, xy[1] + 5), cv2.FONT_HERSHEY_SIMPLEX, 0.4, (255, 255, 255),\n",
    "            #            1)\n",
    "\n",
    "    # visualise the image with landmarks\n",
    "    outputNameofImage = \"output/image_landmarks.jpg\"\n",
    "    cv2.imwrite(outputNameofImage, img)\n",
    "    cv2.imshow('img', img)\n",
    "    cv2.waitKey(0)\n",
    "    cv2.destroyAllWindows() \n",
    "    "
   ]
  }
 ],
 "metadata": {
  "kernelspec": {
   "display_name": "base",
   "language": "python",
   "name": "python3"
  },
  "language_info": {
   "codemirror_mode": {
    "name": "ipython",
    "version": 3
   },
   "file_extension": ".py",
   "mimetype": "text/x-python",
   "name": "python",
   "nbconvert_exporter": "python",
   "pygments_lexer": "ipython3",
   "version": "3.9.7"
  }
 },
 "nbformat": 4,
 "nbformat_minor": 2
}
